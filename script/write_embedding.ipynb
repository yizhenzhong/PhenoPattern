{
 "cells": [
  {
   "cell_type": "code",
   "execution_count": 18,
   "metadata": {},
   "outputs": [],
   "source": [
    "import sys  \n",
    "import pickle\n",
    "import pandas as pd\n",
    "\n",
    "#reload(sys)  \n",
    "#sys.setdefaultencoding('utf8')\n",
    "fn = '../data/embedding_mimic3_pp200_0829.pik'\n",
    "f = open(fn, 'rb')\n",
    "a = pickle.load(f, encoding='bytes')\n",
    "(mem, hwoov, hwid) = a"
   ]
  },
  {
   "cell_type": "code",
   "execution_count": 60,
   "metadata": {},
   "outputs": [],
   "source": [
    "words = list(hwid.keys())\n",
    "indexs = list(hwid.values())"
   ]
  },
  {
   "cell_type": "code",
   "execution_count": 51,
   "metadata": {},
   "outputs": [
    {
     "name": "stdout",
     "output_type": "stream",
     "text": [
      "['0', '0.5', '042.xx_044.xx', '1', '10a', '12', '126', '135', '140', '173']\n"
     ]
    }
   ],
   "source": [
    "reorder_words = list(map(lambda x: words[indexs.index(x+1)].decode(\"utf-8\"), range(len(hwid))))\n",
    "print(reorder_words[0:10])"
   ]
  },
  {
   "cell_type": "code",
   "execution_count": 53,
   "metadata": {},
   "outputs": [],
   "source": [
    "dataEM = pd.DataFrame(data=mem[1:,:],    # values\n",
    "             index=reorder_words)"
   ]
  },
  {
   "cell_type": "code",
   "execution_count": 58,
   "metadata": {},
   "outputs": [],
   "source": [
    "dataEM.to_csv(path_or_buf=\"../data/embedding_mimic3_pp200_0829.csv\", \n",
    "              sep=',', na_rep='', float_format=None, columns=None, header=False, index=True, \n",
    "              index_label=None, mode='w', encoding=None, compression=None, quoting=None,  \n",
    "            )"
   ]
  }
 ],
 "metadata": {
  "kernelspec": {
   "display_name": "Python 3",
   "language": "python",
   "name": "python3"
  },
  "language_info": {
   "codemirror_mode": {
    "name": "ipython",
    "version": 3
   },
   "file_extension": ".py",
   "mimetype": "text/x-python",
   "name": "python",
   "nbconvert_exporter": "python",
   "pygments_lexer": "ipython3",
   "version": "3.6.4"
  }
 },
 "nbformat": 4,
 "nbformat_minor": 2
}
